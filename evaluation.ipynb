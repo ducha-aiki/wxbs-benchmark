{
 "cells": [
  {
   "cell_type": "code",
   "execution_count": null,
   "metadata": {},
   "outputs": [],
   "source": [
    "# default_exp evaluation"
   ]
  },
  {
   "cell_type": "markdown",
   "metadata": {},
   "source": [
    "# evaluation\n",
    "\n",
    "> API details."
   ]
  },
  {
   "cell_type": "code",
   "execution_count": null,
   "metadata": {},
   "outputs": [],
   "source": [
    "#hide\n",
    "from nbdev.showdoc import *"
   ]
  },
  {
   "cell_type": "code",
   "execution_count": null,
   "metadata": {},
   "outputs": [
    {
     "name": "stderr",
     "output_type": "stream",
     "text": [
      "/opt/homebrew/Caskroom/miniforge/base/envs/python39/lib/python3.9/site-packages/kornia/augmentation/augmentation.py:1830: DeprecationWarning: GaussianBlur is no longer maintained and will be removed from the future versions. Please use RandomGaussianBlur instead.\n",
      "  warnings.warn(\n"
     ]
    }
   ],
   "source": [
    "#export\n",
    "import numpy as np\n",
    "from wxbs_benchmark.dataset import *\n",
    "from wxbs_benchmark.metrics import *\n",
    "\n",
    "def evaluate_Fs(Fs = [], subset = 'test'):\n",
    "    dset = WxBSDataset('.WxBS', subset=subset, download=True)\n",
    "    ths = np.arange(20)\n",
    "    gt_corrs = []\n",
    "    names = []\n",
    "    for data_dict in dset:\n",
    "        corrs = data_dict['pts']\n",
    "        pairname = data_dict['name']\n",
    "        names.append(pairname)\n",
    "        gt_corrs.append(corrs)\n",
    "    assert len(Fs) == len(gt_corrs)\n",
    "    per_pair_results = {}\n",
    "    all_res = []\n",
    "    for (F, pts, pairname) in zip(Fs, gt_corrs, names):\n",
    "        res = fraction_of_gt_corrs_consisent_with_F(F, pts, ths)\n",
    "        per_pair_results[pairname] = res\n",
    "        all_res.append(res)\n",
    "    per_pair_results['average'] = np.stack(all_res, axis=1).mean(axis=1)\n",
    "    return per_pair_results, ths"
   ]
  },
  {
   "cell_type": "markdown",
   "metadata": {},
   "source": [
    "Evaluates fundamental matrices returned by algorithm"
   ]
  },
  {
   "cell_type": "code",
   "execution_count": null,
   "metadata": {},
   "outputs": [
    {
     "name": "stdout",
     "output_type": "stream",
     "text": [
      "{'WGABS/petrzin': [0.0, 0.0, 0.0, 0.0, 0.0, 0.0, 0.0, 0.0, 0.0, 0.0, 0.0, 0.0, 0.0, 0.02631579, 0.02631579, 0.02631579, 0.02631579, 0.02631579, 0.05263158, 0.05263158], 'WGALBS/kyiv_dolltheater2': [0.0, 0.0, 0.0, 0.0, 0.0, 0.0, 0.0, 0.0, 0.0, 0.0, 0.0, 0.0, 0.0, 0.0, 0.0, 0.0, 0.0, 0.0, 0.0, 0.0], 'average': array([0.        , 0.        , 0.        , 0.        , 0.        ,\n",
      "       0.        , 0.        , 0.        , 0.        , 0.        ,\n",
      "       0.        , 0.        , 0.        , 0.01315789, 0.01315789,\n",
      "       0.01315789, 0.01315789, 0.01315789, 0.02631579, 0.02631579],\n",
      "      dtype=float32)}\n"
     ]
    },
    {
     "name": "stderr",
     "output_type": "stream",
     "text": [
      "/opt/homebrew/Caskroom/miniforge/base/envs/python39/lib/python3.9/site-packages/ipykernel/ipkernel.py:283: DeprecationWarning: `should_run_async` will not call `transform_cell` automatically in the future. Please pass the result to `transformed_cell` argument and any exception that happen during thetransform in `preprocessing_exc_tuple` in IPython 7.17 and above.\n",
      "  and should_run_async(code)\n"
     ]
    }
   ],
   "source": [
    "shift_f = np.array([[0.0, 0.0, 0.0],\n",
    "              [0.0, 0.0, -1.0],\n",
    "              [0.0, 1.0, 0.0]])\n",
    "Fs = [shift_f, shift_f]\n",
    "\n",
    "res_dict, th = evaluate_Fs(Fs, 'val')\n",
    "print (res_dict)"
   ]
  },
  {
   "cell_type": "code",
   "execution_count": null,
   "metadata": {},
   "outputs": [
    {
     "name": "stderr",
     "output_type": "stream",
     "text": [
      "/opt/homebrew/Caskroom/miniforge/base/envs/python39/lib/python3.9/site-packages/ipykernel/ipkernel.py:283: DeprecationWarning: `should_run_async` will not call `transform_cell` automatically in the future. Please pass the result to `transformed_cell` argument and any exception that happen during thetransform in `preprocessing_exc_tuple` in IPython 7.17 and above.\n",
      "  and should_run_async(code)\n"
     ]
    }
   ],
   "source": [
    "def evaluate_corrs(estimated_right = [],\n",
    "                   estimated_left = [],\n",
    "                   subset = 'test'):\n",
    "    dset = WxBSDataset('.WxBS', subset=subset, download=True)\n",
    "    ths = np.arange(20)\n",
    "    gt_corrs = []\n",
    "    names = []\n",
    "    for data_dict in dset:\n",
    "        corrs = data_dict['pts']\n",
    "        pairname = data_dict['name']\n",
    "        names.append(pairname)\n",
    "        gt_corrs.append(corrs)\n",
    "    assert len(estimated_right) == len(gt_corrs)\n",
    "    assert len(estimated_left) == len(gt_corrs)\n",
    "    all_res = []\n",
    "    per_pair_results = {}\n",
    "    for (est_right, est_left, gt_pts, pairname) in zip(estimated_right,\n",
    "                                                       estimated_left, \n",
    "                                                       gt_corrs, names):\n",
    "        res = 0.5 * (PCK(est_right, gt_pts[:, 2:4], ths) + \n",
    "                     PCK(est_left,  gt_pts[:, :2], ths))\n",
    "        per_pair_results[pairname] = res\n",
    "        all_res.append(res)\n",
    "    per_pair_results['average'] = np.stack(all_res, axis=1).mean(axis=1)\n",
    "    return per_pair_results, ths"
   ]
  },
  {
   "cell_type": "markdown",
   "metadata": {},
   "source": [
    "We will check the naive baseline -- no camera motion, return the input baseline."
   ]
  },
  {
   "cell_type": "code",
   "execution_count": null,
   "metadata": {},
   "outputs": [
    {
     "name": "stdout",
     "output_type": "stream",
     "text": [
      "({'WGABS/petrzin': array([0., 0., 0., 0., 0., 0., 0., 0., 0., 0., 0., 0., 0., 0., 0., 0., 0.,\n",
      "       0., 0., 0.], dtype=float32), 'WGALBS/kyiv_dolltheater2': array([0., 0., 0., 0., 0., 0., 0., 0., 0., 0., 0., 0., 0., 0., 0., 0., 0.,\n",
      "       0., 0., 0.], dtype=float32), 'average': array([0., 0., 0., 0., 0., 0., 0., 0., 0., 0., 0., 0., 0., 0., 0., 0., 0.,\n",
      "       0., 0., 0.], dtype=float32)}, array([ 0,  1,  2,  3,  4,  5,  6,  7,  8,  9, 10, 11, 12, 13, 14, 15, 16,\n",
      "       17, 18, 19]))\n"
     ]
    },
    {
     "name": "stderr",
     "output_type": "stream",
     "text": [
      "/opt/homebrew/Caskroom/miniforge/base/envs/python39/lib/python3.9/site-packages/ipykernel/ipkernel.py:283: DeprecationWarning: `should_run_async` will not call `transform_cell` automatically in the future. Please pass the result to `transformed_cell` argument and any exception that happen during thetransform in `preprocessing_exc_tuple` in IPython 7.17 and above.\n",
      "  and should_run_async(code)\n"
     ]
    }
   ],
   "source": [
    "dset = WxBSDataset('.WxBS', subset='val', download=True)\n",
    "predicted_left = []\n",
    "predicted_right = []\n",
    "for res_dict in dset:\n",
    "    gt_corrs = res_dict['pts']\n",
    "    query_left = gt_corrs[:, :2]\n",
    "    query_right = gt_corrs[:, 2:]\n",
    "    predicted_right.append(query_left)\n",
    "    predicted_left.append(query_right)\n",
    "eval_results = evaluate_corrs (predicted_right, predicted_left, subset='val')\n",
    "print (eval_results)"
   ]
  },
  {
   "cell_type": "code",
   "execution_count": null,
   "metadata": {},
   "outputs": [],
   "source": []
  },
  {
   "attachments": {},
   "cell_type": "markdown",
   "metadata": {},
   "source": []
  },
  {
   "cell_type": "code",
   "execution_count": null,
   "metadata": {},
   "outputs": [],
   "source": []
  }
 ],
 "metadata": {
  "kernelspec": {
   "display_name": "Python 3",
   "language": "python",
   "name": "python3"
  }
 },
 "nbformat": 4,
 "nbformat_minor": 2
}
