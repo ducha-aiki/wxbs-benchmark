{
 "cells": [
  {
   "cell_type": "raw",
   "metadata": {},
   "source": [
    "---\n",
    "description: API details.\n",
    "output-file: metrics.html\n",
    "title: metrics\n",
    "\n",
    "---\n",
    "\n"
   ]
  },
  {
   "cell_type": "code",
   "execution_count": null,
   "metadata": {},
   "outputs": [],
   "source": [
    "#| default_exp metrics"
   ]
  },
  {
   "cell_type": "code",
   "execution_count": null,
   "metadata": {},
   "outputs": [],
   "source": [
    "#| include: false\n",
    "from nbdev.showdoc import *"
   ]
  },
  {
   "cell_type": "code",
   "execution_count": null,
   "metadata": {},
   "outputs": [
    {
     "name": "stderr",
     "output_type": "stream",
     "text": [
      "/opt/homebrew/Caskroom/miniforge/base/envs/python39/lib/python3.9/site-packages/ipykernel/ipkernel.py:283: DeprecationWarning: `should_run_async` will not call `transform_cell` automatically in the future. Please pass the result to `transformed_cell` argument and any exception that happen during thetransform in `preprocessing_exc_tuple` in IPython 7.17 and above.\n",
      "  and should_run_async(code)\n"
     ]
    }
   ],
   "source": [
    "#| export\n",
    "import numpy as np\n",
    "\n",
    "def PCK(pts: np.array, gt_pts: np.array, ths = np.arange(20)):\n",
    "    '''Function to calculate  Probability of Correct Keypoint (PCK) given the error threshold'''\n",
    "    assert pts.shape[0] == gt_pts.shape[0]\n",
    "    assert pts.shape[1] == 2\n",
    "    diff  = np.linalg.norm(pts - gt_pts, ord=2, axis=1)\n",
    "    out = []\n",
    "    for th in ths:\n",
    "        correct = diff <= th\n",
    "        out.append(correct.astype(np.float32).mean())\n",
    "    return np.array(out)"
   ]
  },
  {
   "cell_type": "code",
   "execution_count": null,
   "metadata": {},
   "outputs": [],
   "source": [
    "#| export\n",
    "import numpy as np\n",
    "import cv2\n",
    "\n",
    "def get_visible_part_mean_absolute_reprojection_error(img1_shape, img2_shape, H_gt, H):\n",
    "    '''We reproject the image 1 mask to image2 and back to get the visible part mask.\n",
    "    Then we average the reprojection absolute error over that area'''\n",
    "    h,w = img1_shape[:2]\n",
    "    mask1 = np.ones((h,w))\n",
    "    mask1in2 = cv2.warpPerspective(mask1, H_gt, img2_shape[::-1])\n",
    "    mask1inback = cv2.warpPerspective(mask1in2, np.linalg.inv(H_gt), img1_shape[:2][::-1]) > 0\n",
    "    xi = np.arange(w)\n",
    "    yi = np.arange(h)\n",
    "    xg, yg = np.meshgrid(xi,yi)\n",
    "    coords = np.concatenate([xg.reshape(*xg.shape,1), yg.reshape(*yg.shape,1)], axis=-1)\n",
    "    shape_orig = coords.shape\n",
    "    xy_rep_gt = cv2.perspectiveTransform(coords.reshape(-1, 1,2).astype(np.float32), H_gt.astype(np.float32)).squeeze(1)\n",
    "    xy_rep_estimated = cv2.perspectiveTransform(coords.reshape(-1, 1,2).astype(np.float32),\n",
    "                                                H.astype(np.float32)).squeeze(1)\n",
    "    #error = np.abs(xy_rep_gt-xy_rep_estimated).sum(axis=1).reshape(xg.shape) * mask1inback\n",
    "    error = np.sqrt(((xy_rep_gt-xy_rep_estimated)**2).sum(axis=1)).reshape(xg.shape) * mask1inback\n",
    "    mean_error = error.sum() / mask1inback.sum()\n",
    "    return mean_error\n",
    "\n",
    "\n",
    "def get_mAA(mAE: np.array, ths=np.logspace(np.log2(1.0), np.log2(20), 10, base=2.0)):\n",
    "    out = []\n",
    "    for th in ths:\n",
    "        correct = mAE <= th\n",
    "        out.append(correct.astype(np.float32).mean())\n",
    "    return out"
   ]
  },
  {
   "cell_type": "code",
   "execution_count": null,
   "metadata": {},
   "outputs": [],
   "source": []
  },
  {
   "cell_type": "markdown",
   "metadata": {},
   "source": [
    "Calculates `PCK` Probability of Correct Keypoint  given the error threshold"
   ]
  },
  {
   "cell_type": "code",
   "execution_count": null,
   "metadata": {},
   "outputs": [
    {
     "data": {
      "image/png": "[encoded data removed]",
      "text/plain": [
       "<Figure size 432x288 with 1 Axes>"
      ]
     },
     "metadata": {
      "needs_background": "light"
     },
     "output_type": "display_data"
    },
    {
     "data": {
      "image/png": "[encoded data removed]",
      "text/plain": [
       "<Figure size 432x288 with 1 Axes>"
      ]
     },
     "metadata": {
      "needs_background": "light"
     },
     "output_type": "display_data"
    }
   ],
   "source": [
    "import matplotlib.pyplot as plt\n",
    "gt = np.stack([np.arange(5), np.arange(5)], axis=-1)\n",
    "pts = np.array([[0,0],\n",
    "               [1,1.1],\n",
    "               [2,3],\n",
    "               [2.5,2],\n",
    "               [4.1,6]])\n",
    "plt.plot(gt[:,0], gt[:,1], 'go', label='GT')\n",
    "plt.plot(pts[:,0], pts[:,1], 'rx', label='estimate')\n",
    "plt.plot(np.stack([pts[:,0], gt[:,0]], axis=0), \n",
    "         np.stack([pts[:,1], gt[:,1]], axis=0), 'r-', label='error')\n",
    "\n",
    "\n",
    "plt.legend()\n",
    "ths =  np.arange(4)\n",
    "acc = PCK(pts, gt, np.arange(4))\n",
    "plt.figure()\n",
    "plt.plot(ths, acc, '-x')\n",
    "plt.ylim([0,1.05])\n",
    "plt.xlabel('Thresholds')\n",
    "plt.ylabel('PCK')\n",
    "plt.grid(True)"
   ]
  },
  {
   "cell_type": "code",
   "execution_count": null,
   "metadata": {},
   "outputs": [
    {
     "name": "stderr",
     "output_type": "stream",
     "text": [
      "/opt/homebrew/Caskroom/miniforge/base/envs/python39/lib/python3.9/site-packages/ipykernel/ipkernel.py:283: DeprecationWarning: `should_run_async` will not call `transform_cell` automatically in the future. Please pass the result to `transformed_cell` argument and any exception that happen during thetransform in `preprocessing_exc_tuple` in IPython 7.17 and above.\n",
      "  and should_run_async(code)\n"
     ]
    }
   ],
   "source": [
    "#| export\n",
    "import kornia.geometry as KG\n",
    "import torch\n",
    "def fraction_of_gt_corrs_consisent_with_F(Fm: np.array, gt_corrs: np.array, ths=np.arange(20)):\n",
    "    assert Fm.shape == (3, 3)\n",
    "    assert gt_corrs.shape[1] == 4\n",
    "    pts_torch = torch.from_numpy(gt_corrs)[None]\n",
    "    F_torch = torch.from_numpy(Fm)[None]\n",
    "    errors = KG.symmetrical_epipolar_distance(pts_torch[:,:,:2],\n",
    "                                              pts_torch[:,:,2:],\n",
    "                                              F_torch, squared=False).detach().cpu().numpy().reshape(-1, 1)\n",
    "    out = []\n",
    "    for th in ths:\n",
    "        correct = errors <= th\n",
    "        out.append(correct.astype(np.float32).mean())\n",
    "    return out"
   ]
  },
  {
   "cell_type": "markdown",
   "metadata": {},
   "source": [
    "Calculates percentage of the ground truth correspondences, consistent with estimated fundamental matrix in a sense of the symmetrical epipolar distance. \n",
    "This is evaluation from the [WxBS paper](symmetrical_epipolar_distance), see the screenshot below:\n",
    "![image.png](metrics_files/att_00000.png)"
   ]
  },
  {
   "cell_type": "code",
   "execution_count": null,
   "metadata": {},
   "outputs": [
    {
     "name": "stderr",
     "output_type": "stream",
     "text": [
      "/opt/homebrew/Caskroom/miniforge/base/envs/python39/lib/python3.9/site-packages/ipykernel/ipkernel.py:283: DeprecationWarning: `should_run_async` will not call `transform_cell` automatically in the future. Please pass the result to `transformed_cell` argument and any exception that happen during thetransform in `preprocessing_exc_tuple` in IPython 7.17 and above.\n",
      "  and should_run_async(code)\n"
     ]
    },
    {
     "data": {
      "image/png": "[encoded data removed]",
      "text/plain": [
       "<Figure size 432x288 with 1 Axes>"
      ]
     },
     "metadata": {
      "needs_background": "light"
     },
     "output_type": "display_data"
    }
   ],
   "source": [
    "pts1 = np.stack([np.arange(5),\n",
    "               np.arange(5)], axis=-1)\n",
    "pts2 = np.array([[0,0],\n",
    "               [1,1.1],\n",
    "               [2,3],\n",
    "               [2.5,2],\n",
    "               [4.1,6]])\n",
    "corrs = np.concatenate([pts1, pts2], axis=1)\n",
    "# Generate F for the purely horizontal shift between the cameras \n",
    "F = np.array([[0.0, 0.0, 0.0],\n",
    "              [0.0, 0.0, -1.0],\n",
    "              [0.0, 1.0, 0.0]])\n",
    "ths = np.arange(5)\n",
    "recall = fraction_of_gt_corrs_consisent_with_F(F, corrs, ths)\n",
    "plt.figure()\n",
    "plt.plot(ths, recall, '-x')\n",
    "plt.ylim([0,1.05])\n",
    "plt.xlabel('Thresholds')\n",
    "plt.ylabel('Recall on GT corrs')\n",
    "plt.grid(True)\n"
   ]
  }
 ],
 "metadata": {
  "kernelspec": {
   "display_name": "python3",
   "language": "python",
   "name": "python3"
  }
 },
 "nbformat": 4,
 "nbformat_minor": 2
}
